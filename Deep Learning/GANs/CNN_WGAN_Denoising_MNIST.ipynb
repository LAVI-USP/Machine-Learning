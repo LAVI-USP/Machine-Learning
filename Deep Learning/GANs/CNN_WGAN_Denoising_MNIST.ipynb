{
  "nbformat": 4,
  "nbformat_minor": 0,
  "metadata": {
    "colab": {
      "provenance": [],
      "toc_visible": true
    },
    "kernelspec": {
      "name": "python3",
      "display_name": "Python 3"
    },
    "accelerator": "GPU"
  },
  "cells": [
    {
      "cell_type": "markdown",
      "metadata": {
        "id": "z8EF3G9bOZqM"
      },
      "source": [
        "# WGAN-Autoencoder \n",
        "\n",
        "Example of Wasserstein Generative Adversarial Network (WGAN) with TensorFlow (TF) 2. This example builds a WGAN from scratch, with custom layers and training.\n",
        "\n",
        "Sources:\n",
        "\n",
        "*   [Ahlad Kumar - Deep Learning 37](https://youtu.be/XK0TJPeZVbs)\n",
        "*   [Erik Linder-Norén - Keras GAN](https://github.com/eriklindernoren/Keras-GAN)\n",
        "\n",
        "\n",
        "`Author: Rodrigo Vimieiro`\n",
        "\n",
        "`Date: Oct, 2020`"
      ]
    },
    {
      "cell_type": "markdown",
      "metadata": {
        "id": "ljWU3aS62sCW"
      },
      "source": [
        "\n",
        "\n",
        "<table class=\"tfo-notebook-buttons\" align=\"left\">\n",
        "  <td>\n",
        "    <a target=\"_blank\" href=\"https://colab.research.google.com/github/LAVI-USP/Machine-Learning/blob/master/Deep%20Learning/CNN_AutoEncoder_Denoising_mnist_Perceptual_Loss.ipynb\"><img src=\"https://www.tensorflow.org/images/colab_logo_32px.png\" />Run in Google Colab</a>\n",
        "  </td>\n",
        "  <td>\n",
        "    <a target=\"_blank\" href=\"https://github.com/LAVI-USP/Machine-Learning/blob/master/Deep%20Learning/CNN_AutoEncoder_Denoising_mnist_Perceptual_Loss.ipynb\"><img src=\"https://www.tensorflow.org/images/GitHub-Mark-32px.png\" />View source on GitHub</a>\n",
        "  </td>\n",
        "</table>\n"
      ]
    },
    {
      "cell_type": "code",
      "metadata": {
        "id": "fPySz9wCLK-z"
      },
      "source": [
        "import tensorflow as tf\n",
        "import functools\n",
        "import matplotlib.pyplot as plt\n",
        "import sys\n",
        "import numpy as np"
      ],
      "execution_count": null,
      "outputs": []
    },
    {
      "cell_type": "markdown",
      "metadata": {
        "id": "-6QyW4Ex4z97"
      },
      "source": [
        "## Define MNIST help functions:"
      ]
    },
    {
      "cell_type": "code",
      "metadata": {
        "id": "QtAsaqBJOkQg"
      },
      "source": [
        "class MNIST_Helper():\n",
        "    \n",
        "  def download(self):\n",
        "\n",
        "    # Loads the MNIST dataset.\n",
        "    (self.x_train, self.y_train) ,(self.x_test, self.y_test) =  tf.keras.datasets.mnist.load_data()\n",
        "\n",
        "    self.train_dataset_shape = self.x_train.shape\n",
        "    self.test_dataset_shape = self.x_test.shape\n",
        "\n",
        "\n",
        "  def print_information(self):\n",
        "\n",
        "    # Print informations about the MNIST dataset.\n",
        "    print(\"There is %d training samples, containing images with shape of: %dx%d and %d channel\" \n",
        "          % (self.train_dataset_shape[0],self.train_dataset_shape[1],self.train_dataset_shape[2],self.train_dataset_shape[3]))\n",
        "    print(\"Train variable shape:\", end='')\n",
        "    print(self.train_dataset_shape)\n",
        "\n",
        "  def pre_process(self):\n",
        "\n",
        "    # Reshape to have 1 channel (last dimension) and normalize\n",
        "    self.x_train = np.expand_dims(self.x_train, axis=-1).astype(np.float32)\n",
        "    self.x_test = np.expand_dims(self.x_test, axis=-1).astype(np.float32)\n",
        "\n",
        "    # Normalize data\n",
        "    ## https://stats.stackexchange.com/questions/185853/why-do-we-need-to-normalize-the-images-before-we-put-them-into-cnn\n",
        "    self.x_train /= 255 #(self.x_train - 127.5) / 127.5\n",
        "    self.x_test /= 255 #(self.x_test - 127.5) / 127.5\n",
        "\n",
        "    self.train_dataset_shape = self.x_train.shape\n",
        "    self.test_dataset = self.x_test.shape\n",
        "\n",
        "  def noise_injection(self):\n",
        "\n",
        "    # Gaussian noise\n",
        "    self.x_train_noise = self.x_train + tf.random.normal(self.x_train.shape, mean=1, stddev=0.5, dtype=np.float32)\n",
        "    self.x_test_noise = self.x_test + tf.random.normal(self.x_test.shape, mean=1, stddev=0.5, dtype=np.float32)\n",
        "\n",
        "    self.x_train_noise = self.x_train_noise - np.min(self.x_train_noise) \n",
        "    self.x_train_noise /= np.max(self.x_train_noise)\n",
        "\n",
        "    self.x_test_noise = self.x_test_noise - np.min(self.x_test_noise) \n",
        "    self.x_test_noise /= np.max(self.x_test_noise)\n",
        "\n",
        "    #self.x_train_noise = np.clip(self.x_train_noise, 0, 1)\n",
        "    #self.x_test_noise = np.clip(self.x_test_noise, 0, 1)\n",
        "  \n",
        "  def create_dataset_iterable(self):\n",
        "\n",
        "    # Create database objects\n",
        "    self.train_dataset = tf.data.Dataset.from_tensor_slices((self.x_train_noise, self.x_train))\n",
        "    self.test_dataset = tf.data.Dataset.from_tensor_slices((self.x_test_noise, self.x_test))\n",
        "      \n",
        "  def shuffle_dataset(self, dataset_size):\n",
        "    \n",
        "    return self.train_dataset.shuffle(dataset_size)"
      ],
      "execution_count": null,
      "outputs": []
    },
    {
      "cell_type": "markdown",
      "metadata": {
        "id": "01hvHFIm44pb"
      },
      "source": [
        "### Defining the GAN model:"
      ]
    },
    {
      "cell_type": "code",
      "metadata": {
        "id": "N8Ea8NXNO9pO"
      },
      "source": [
        "class GEN(tf.keras.models.Model):\n",
        "\n",
        "  def __init__(self, shape):\n",
        "\n",
        "    super(GEN, self).__init__()\n",
        "\n",
        "    self.img_shape = shape\n",
        "    self.n_filters = 32\n",
        "\n",
        "    self.generator = self.build_generator()\n",
        "\n",
        "  def build_generator(self):\n",
        "\n",
        "    Conv2D = functools.partial(tf.keras.layers.Conv2D, padding='valid', activation=None, strides=1, use_bias=True)   \n",
        "    Conv2DTranspose = functools.partial(tf.keras.layers.Conv2DTranspose, padding='valid', activation=None, strides=1, use_bias=True)\n",
        "    ResAdd = tf.keras.layers.Add() \n",
        "\n",
        "    k_ini = tf.keras.initializers.RandomNormal(mean=0., stddev=0.02)\n",
        "    b_ini = tf.keras.initializers.Constant(value=0.)\n",
        "      \n",
        "    imgBatch = tf.keras.layers.Input(shape=self.img_shape)\n",
        "    \n",
        "    Conv2D_1 = Conv2D(filters=1*self.n_filters, kernel_size=5, kernel_initializer=k_ini, bias_initializer=b_ini)(imgBatch)\n",
        "    ReLU_1 = tf.keras.layers.ReLU()(Conv2D_1)\n",
        "      \n",
        "    Conv2D_2 = Conv2D(filters=1*self.n_filters, kernel_size=5, kernel_initializer=k_ini, bias_initializer=b_ini)(ReLU_1)\n",
        "    ReLU_2 = tf.keras.layers.ReLU()(Conv2D_2)\n",
        "      \n",
        "    Conv2D_3 = Conv2D(filters=1*self.n_filters, kernel_size=5, kernel_initializer=k_ini, bias_initializer=b_ini)(ReLU_2)\n",
        "    ReLU_3 = tf.keras.layers.ReLU()(Conv2D_3)\n",
        "      \n",
        "    Conv2D_4 = Conv2D(filters=1*self.n_filters, kernel_size=5, kernel_initializer=k_ini, bias_initializer=b_ini)(ReLU_3)\n",
        "    ReLU_4 = tf.keras.layers.ReLU()(Conv2D_4)\n",
        "      \n",
        "    Conv2D_5 = Conv2D(filters=1*self.n_filters, kernel_size=5, kernel_initializer=k_ini, bias_initializer=b_ini)(ReLU_4)\n",
        "    ReLU_5 = tf.keras.layers.ReLU()(Conv2D_5)\n",
        "    \n",
        "    Residual1 = imgBatch\n",
        "    Residual2 = ReLU_2   # ReLU_2\n",
        "    Residual3 = ReLU_4   # ReLU_4\n",
        "\n",
        "    LatentIn  = ReLU_5\n",
        "        \n",
        "    # Upscaling convolutions (inverse of encoder)\n",
        "    Conv2DT_1 = Conv2DTranspose(filters=1*self.n_filters, kernel_size=5, kernel_initializer=k_ini, bias_initializer=b_ini) (LatentIn)\n",
        "    Add_1 = tf.keras.layers.Add()([Conv2DT_1, Residual3])\n",
        "    ReLU_1 =  tf.keras.layers.ReLU()(Add_1)\n",
        "      \n",
        "    Conv2DT_2 = Conv2DTranspose(filters=1*self.n_filters, kernel_size=5, kernel_initializer=k_ini, bias_initializer=b_ini)(ReLU_1)\n",
        "    ReLU_2 = tf.keras.layers.ReLU()(Conv2DT_2)\n",
        "      \n",
        "    Conv2DT_3 = Conv2DTranspose(filters=1*self.n_filters, kernel_size=5, kernel_initializer=k_ini, bias_initializer=b_ini)(ReLU_2)\n",
        "    Add_2 = ResAdd([Conv2DT_3, Residual2])\n",
        "    ReLU_3 = tf.keras.layers.ReLU()(Add_2)\n",
        "      \n",
        "    Conv2DT_4 = Conv2DTranspose(filters=1*self.n_filters, kernel_size=5, kernel_initializer=k_ini, bias_initializer=b_ini)(ReLU_3)\n",
        "    ReLU_4 = tf.keras.layers.ReLU()(Conv2DT_4)\n",
        "      \n",
        "    Conv2DT_5 = Conv2DTranspose(filters=1, kernel_size=5, kernel_initializer=k_ini, bias_initializer=b_ini)(ReLU_4)\n",
        "    Add_3 =  tf.keras.layers.Add()([Conv2DT_5, Residual1])\n",
        "    ReLU_5 = tf.keras.layers.ReLU()(Add_3)\n",
        "\n",
        "    model = tf.keras.Model(inputs=imgBatch, outputs=ReLU_5, name=\"autoencoder\")\n",
        "      \n",
        "    return model\n",
        "\n",
        "  def call(self, x):\n",
        "\n",
        "    return self.generator(x)\n",
        "\n",
        "\n",
        "class DIS(tf.keras.models.Model):\n",
        "\n",
        "  def __init__(self, shape):\n",
        "\n",
        "    super(DIS, self).__init__()\n",
        "\n",
        "    self.img_shape = shape\n",
        "    self.discriminator = self.build_discriminator()\n",
        "\n",
        "  def build_discriminator(self):\n",
        "    \n",
        "    Conv2D = tf.keras.layers.Conv2D\n",
        "    LeakyReLU = tf.keras.layers.LeakyReLU\n",
        "    BatchNormalization = tf.keras.layers.BatchNormalization\n",
        "    LayerNormalization = tf.keras.layers.LayerNormalization\n",
        "\n",
        "    k_ini = tf.keras.initializers.RandomNormal(mean=0., stddev=0.02)\n",
        "    b_ini = tf.keras.initializers.Constant(value=0.)\n",
        "    model = tf.keras.Sequential([\n",
        "\n",
        "      Conv2D(filters=64,  strides=2, kernel_size=4, padding='valid', kernel_initializer=k_ini, input_shape=self.img_shape),  \n",
        "      LayerNormalization(axis=[1, 2, 3]),                     \n",
        "      LeakyReLU(0.2),\n",
        "\n",
        "      Conv2D(filters=128,  strides=2, kernel_size=4, padding='valid', kernel_initializer=k_ini),  \n",
        "      LayerNormalization(axis=[1, 2, 3]),                        \n",
        "      LeakyReLU(0.2),\n",
        "\n",
        "      Conv2D(filters=1,  strides=2, kernel_size=4, padding='valid', kernel_initializer=k_ini),  \n",
        "\n",
        "    ])\n",
        "\n",
        "    return model\n",
        "\n",
        "  def call(self, x):\n",
        "\n",
        "    return self.discriminator(x)\n",
        "\n",
        "class GAN():\n",
        "\n",
        "  def __init__(self, shape):\n",
        "\n",
        "    self.img_shape = shape\n",
        "\n",
        "    self.generator = GEN(self.img_shape)\n",
        "    self.discriminator = DIS(self.img_shape)"
      ],
      "execution_count": null,
      "outputs": []
    },
    {
      "cell_type": "markdown",
      "metadata": {
        "id": "Cm01frGVdDup"
      },
      "source": [
        "### Defining the optimizer:"
      ]
    },
    {
      "cell_type": "code",
      "metadata": {
        "id": "Z3_yItXPdeYG"
      },
      "source": [
        "def create_optimizer(learning_rate):\n",
        "\n",
        "  return tf.keras.optimizers.Adam(learning_rate,beta_1=0.5) # define our optimizer"
      ],
      "execution_count": null,
      "outputs": []
    },
    {
      "cell_type": "markdown",
      "metadata": {
        "id": "wKLunVNXdQMU"
      },
      "source": [
        "### Defining the trainning step:"
      ]
    },
    {
      "cell_type": "code",
      "metadata": {
        "id": "IyY1Nn-Vdi5q"
      },
      "source": [
        "@tf.function\n",
        "def dis_train_step(gan, z_noise, x_input, optimizer):\n",
        "\n",
        "  # Generate a batch of new images\n",
        "  gen_imgs = gan.generator(z_noise, training=True)       # G(z)\n",
        "\n",
        "  with tf.GradientTape() as tape:\n",
        "\n",
        "    gen_pred  = gan.discriminator(gen_imgs, training=True) # D(G(z))\n",
        "    real_pred = gan.discriminator(x_input, training=True)  # D(x)\n",
        "\n",
        "    # Calc the Wasserstein loss\n",
        "    loss_W = tf.math.reduce_mean(gen_pred - real_pred)\n",
        "\n",
        "\n",
        "    # Vector of the uniformly random proportions of real/fake per mixed image\n",
        "    epsilon = tf.random.uniform(shape=(gen_imgs.shape[0],1,1,1),minval=0.,maxval=1.)\n",
        "\n",
        "    # Mix between generated and real images\n",
        "    interp = epsilon * x_input + (1 - epsilon) * gen_imgs\n",
        "\n",
        "    # https://www.tensorflow.org/guide/advanced_autodiff#example_input_gradient_regularization\n",
        "    with tf.GradientTape() as grad_pen_tape:\n",
        "\n",
        "      grad_pen_tape.watch(interp)\n",
        "\n",
        "      # Critic the interp image\n",
        "      interp_pred = gan.discriminator(interp, training=True)  # D(interp)\n",
        "\n",
        "    # Calculate the gradient for the interp image with respect to the discriminator\n",
        "    gradient_pen = grad_pen_tape.gradient(interp_pred, interp)\n",
        "\n",
        "    # Reshape for one line\n",
        "    gradient_pen = tf.reshape(gradient_pen,(gradient_pen.shape[0],-1))\n",
        "\n",
        "    # Calculate the magnitude of every row\n",
        "    gradient_norm = tf.norm(gradient_pen, ord=2, axis=1)\n",
        "    \n",
        "    # Penalize the mean squared distance of the gradient norms from 1\n",
        "    gradient_penalty = tf.math.reduce_mean((gradient_norm - 1.)**2)\n",
        "\n",
        "    # Total loss\n",
        "    loss = loss_W + 10. * gradient_penalty\n",
        "\n",
        "  ### Backpropagation ###\n",
        "  # Get the gradients\n",
        "  grads = tape.gradient(loss, gan.discriminator.trainable_variables)\n",
        "\n",
        "  # Update the weights\n",
        "  optimizer.apply_gradients(zip(grads, gan.discriminator.trainable_variables))\n",
        "\n",
        "  return loss\n",
        "\n",
        "@tf.function\n",
        "def gen_train_step(gan, z_noise, x_input, optimizer):\n",
        "\n",
        "  with tf.GradientTape() as tape:\n",
        "\n",
        "    # Generate a batch of new images\n",
        "    gen_imgs = gan.generator(z_noise, training=True)       # G(z)\n",
        "    gen_pred  = gan.discriminator(gen_imgs, training=True) # D(G(z))\n",
        "\n",
        "    # Calc the Wasserstein loss\n",
        "    # The minus sign is because we want to maximize\n",
        "    loss_W = -tf.math.reduce_mean(gen_pred)\n",
        "\n",
        "    # MSE loss\n",
        "    loss_MSE = tf.math.reduce_mean(tf.square(gen_imgs - x_input))\n",
        "\n",
        "    # print(\"WLoss:%f Mseloss:%f \\n\" % (loss_W.numpy(),loss_MSE.numpy()))\n",
        "\n",
        "    loss = loss_W #+ (1.92e-3 * loss_MSE)\n",
        "\n",
        "  ### Backpropagation ###\n",
        "  # Get the gradients\n",
        "  grads = tape.gradient(loss, gan.generator.trainable_variables)\n",
        "\n",
        "  # Update the weights\n",
        "  optimizer.apply_gradients(zip(grads, gan.generator.trainable_variables))\n",
        "\n",
        "  return loss\n"
      ],
      "execution_count": null,
      "outputs": []
    },
    {
      "cell_type": "markdown",
      "metadata": {
        "id": "27gAlGoNdVqE"
      },
      "source": [
        "### Defining the trainning loop:\n"
      ]
    },
    {
      "cell_type": "code",
      "metadata": {
        "id": "2omGwAh-dnXZ"
      },
      "source": [
        "def sample_images(gan, epoch, show=False):\n",
        "\n",
        "  r, c = 3, 4\n",
        "  \n",
        "  # shuffle dataset\n",
        "  MNIST.test_dataset.shuffle(MNIST.test_dataset_shape[0])\n",
        "\n",
        "  # Sample noise as generator input\n",
        "  for idX, (batch_x, batch_y) in enumerate(MNIST.test_dataset.batch(c)):\n",
        "\n",
        "    # Select a random batch of images\n",
        "    x_input = batch_y\n",
        "        \n",
        "    # Sample noise as generator input\n",
        "    z_noise = batch_x\n",
        "\n",
        "    gen_imgs = gan.generator(z_noise)   # G(z)\n",
        "\n",
        "    break\n",
        "\n",
        "  # Rescale images 0 - 1\n",
        "  gen_imgs = 0.5 * gen_imgs + 0.5\n",
        "\n",
        "  fig, axs = plt.subplots(r, c)\n",
        "  cnt = 0\n",
        "  for j in range(c):\n",
        "      axs[0,j].imshow(z_noise[cnt, :,:,0], cmap='gray')\n",
        "      axs[1,j].imshow(x_input[cnt, :,:,0], cmap='gray')\n",
        "      axs[2,j].imshow(gen_imgs[cnt, :,:,0], cmap='gray')\n",
        "      axs[0,j].axis('off')\n",
        "      axs[1,j].axis('off')\n",
        "      axs[2,j].axis('off')\n",
        "      cnt += 1\n",
        "\n",
        "  if show:\n",
        "    fig.show()\n",
        "  else:\n",
        "    fig.savefig(\"mnist_%d.png\" % epoch)\n",
        "    plt.close()"
      ],
      "execution_count": null,
      "outputs": []
    },
    {
      "cell_type": "code",
      "metadata": {
        "id": "g602frKldoKS"
      },
      "source": [
        "def train_model(gan, num_epochs, batch_size, learning_rate, sample_interval):\n",
        "\n",
        "  dOptimizer = create_optimizer(learning_rate)\n",
        "  gOptimizer = create_optimizer(learning_rate)\n",
        "\n",
        "  # Create a Checkpoint\n",
        "  ckpt = tf.train.Checkpoint(step=tf.Variable(1), \n",
        "                             optimizerD=dOptimizer, \n",
        "                             optimizerG=gOptimizer, \n",
        "                             modelD=gan.discriminator,\n",
        "                             modelG=gan.generator)\n",
        "\n",
        "  # Create a Checkpoint Manager\n",
        "  manager = tf.train.CheckpointManager(ckpt, './tf_ckpts', max_to_keep=3)\n",
        "\n",
        "  # Restore from last checkpoint, if exist\n",
        "  ckpt.restore(manager.latest_checkpoint)\n",
        "  if manager.latest_checkpoint:\n",
        "    print(\"Restored from {}\".format(manager.latest_checkpoint))\n",
        "  else:\n",
        "    print(\"Initializing from scratch.\")\n",
        "\n",
        "  gen_loss_history = []\n",
        "  dis_loss_history = []\n",
        "\n",
        "  metrics_names = ['gen_loss','dis_loss'] \n",
        "  \n",
        "  # Loop on each epoch\n",
        "  for epoch in range(num_epochs):\n",
        "\n",
        "    print(\"\\nepoch {}/{}\".format(epoch+1,num_epochs))\n",
        "\n",
        "    progBar = tf.keras.utils.Progbar(MNIST.train_dataset_shape[0], stateful_metrics=metrics_names, interval=0.5)\n",
        "\n",
        "    MNIST.shuffle_dataset(MNIST.train_dataset_shape[0])\n",
        "    \n",
        "    # Loop on each batch of train dataset\n",
        "    for idX, (batch_x, batch_y) in enumerate(MNIST.train_dataset.batch(batch_size)):\n",
        "\n",
        "      for _ in range(5):\n",
        "\n",
        "        # ---------------------\n",
        "        #  Train Discriminator\n",
        "        # ---------------------\n",
        "\n",
        "        # Select a random batch of images\n",
        "        x_input = batch_y\n",
        "        \n",
        "        # Sample noise as generator input\n",
        "        z_noise = batch_x\n",
        "\n",
        "        # Train the discriminator model\n",
        "        train_Dloss = dis_train_step(gan, z_noise, x_input, dOptimizer)\n",
        "\n",
        "      # ---------------------\n",
        "      #  Train Generator\n",
        "      # ---------------------\n",
        "      train_Gloss = gen_train_step(gan, z_noise, x_input, gOptimizer)\n",
        "\n",
        "      # Update and record losses\n",
        "      gen_loss_history.append(train_Gloss)\n",
        "      dis_loss_history.append(train_Dloss)\n",
        "\n",
        "      values=[('gen_loss',train_Gloss),('dis_loss',train_Dloss)]\n",
        "\n",
        "      progBar.update(idX*batch_size, values=values) \n",
        "\n",
        "    sample_images(gan, epoch)\n",
        "\n",
        "    ckpt.step.assign_add(1)\n",
        "    save_path = manager.save()\n",
        "    print(\"\\nSaved checkpoint for step {}: {}\".format(int(ckpt.step), save_path))\n",
        "\n",
        "  return gen_loss_history, dis_loss_history"
      ],
      "execution_count": null,
      "outputs": []
    },
    {
      "cell_type": "markdown",
      "metadata": {
        "id": "63li-tXAPgIW"
      },
      "source": [
        "-----------------------------------------------------------------------\n",
        "## %% Main code %%"
      ]
    },
    {
      "cell_type": "code",
      "metadata": {
        "id": "AA_MKjl8PhcM",
        "colab": {
          "base_uri": "https://localhost:8080/"
        },
        "outputId": "f54e0c27-0762-4f1b-e186-23932055ba66"
      },
      "source": [
        "# Create MNIST helper class\n",
        "MNIST = MNIST_Helper()\n",
        "\n",
        "# Download the dataset\n",
        "MNIST.download()\n",
        "\n",
        "# Pre processing\n",
        "MNIST.pre_process()\n",
        "\n",
        "# Display some dataset information\n",
        "MNIST.print_information()\n",
        "\n",
        "# Noise injection\n",
        "MNIST.noise_injection()\n",
        "\n",
        "# Create TF Dataset object \n",
        "MNIST.create_dataset_iterable()"
      ],
      "execution_count": null,
      "outputs": [
        {
          "output_type": "stream",
          "text": [
            "There is 60000 training samples, containing images with shape of: 28x28 and 1 channel\n",
            "Train variable shape:(60000, 28, 28, 1)\n"
          ],
          "name": "stdout"
        }
      ]
    },
    {
      "cell_type": "code",
      "metadata": {
        "id": "2RbbCjnXPlcX",
        "colab": {
          "base_uri": "https://localhost:8080/",
          "height": 191
        },
        "outputId": "1e61f753-893e-4c15-a32f-a29637d8a683"
      },
      "source": [
        "### Examining the MNIST training dataset ###\n",
        "\n",
        "idx_train_img = 18787 #@param {type:\"slider\", min:0, max:59999, step:1}\n",
        "\n",
        "plt.figure(figsize=(5,5))\n",
        "plt.subplot(1, 2, 1)\n",
        "plt.imshow(np.squeeze(MNIST.x_train[idx_train_img]),'gray')\n",
        "plt.title(np.squeeze(MNIST.y_train[idx_train_img])); plt.grid(False)\n",
        "\n",
        "plt.subplot(1, 2, 2)\n",
        "plt.imshow(np.squeeze(MNIST.x_train_noise[idx_train_img]),'gray')\n",
        "plt.title(np.squeeze(MNIST.y_train[idx_train_img])); plt.grid(False)"
      ],
      "execution_count": null,
      "outputs": [
        {
          "output_type": "display_data",
          "data": {
            "image/png": "[encoded data removed]",
            "text/plain": [
              "<Figure size 360x360 with 2 Axes>"
            ]
          },
          "metadata": {
            "tags": [],
            "needs_background": "light"
          }
        }
      ]
    },
    {
      "cell_type": "code",
      "metadata": {
        "id": "l27iOt0oQPjM"
      },
      "source": [
        "# Training hyperparameters\n",
        "roiSize = 28\n",
        "epochs = 20\n",
        "batch_size = 100\n",
        "learning_rate = 1e-4\n",
        "sample_interval = 50\n",
        "\n",
        "# Create model\n",
        "gan = GAN(shape=(roiSize,roiSize,1))"
      ],
      "execution_count": null,
      "outputs": []
    },
    {
      "cell_type": "code",
      "metadata": {
        "id": "g9dvAsRaz3Fu",
        "colab": {
          "base_uri": "https://localhost:8080/"
        },
        "outputId": "725c5ee6-cd9a-4c5b-a5c7-1ac875b39480"
      },
      "source": [
        "# Train the model \n",
        "gen_loss, dis_loss= train_model(gan, epochs, batch_size=batch_size, learning_rate=learning_rate, sample_interval=sample_interval)"
      ],
      "execution_count": null,
      "outputs": [
        {
          "output_type": "stream",
          "text": [
            "Initializing from scratch.\n",
            "\n",
            "epoch 1/20\n",
            "59400/60000 [============================>.] - ETA: 0s - gen_loss: 21.0649 - dis_loss: -7.2056\n",
            "Saved checkpoint for step 2: ./tf_ckpts/ckpt-1\n",
            "\n",
            "epoch 2/20\n",
            "59400/60000 [============================>.] - ETA: 0s - gen_loss: 30.2169 - dis_loss: -2.8494\n",
            "Saved checkpoint for step 3: ./tf_ckpts/ckpt-2\n",
            "\n",
            "epoch 3/20\n",
            "59400/60000 [============================>.] - ETA: 0s - gen_loss: 39.8852 - dis_loss: -2.5592\n",
            "Saved checkpoint for step 4: ./tf_ckpts/ckpt-3\n",
            "\n",
            "epoch 4/20\n",
            "59400/60000 [============================>.] - ETA: 0s - gen_loss: 41.0514 - dis_loss: -1.9049\n",
            "Saved checkpoint for step 5: ./tf_ckpts/ckpt-4\n",
            "\n",
            "epoch 5/20\n",
            "59400/60000 [============================>.] - ETA: 0s - gen_loss: 37.7816 - dis_loss: -1.8215\n",
            "Saved checkpoint for step 6: ./tf_ckpts/ckpt-5\n",
            "\n",
            "epoch 6/20\n",
            "59400/60000 [============================>.] - ETA: 0s - gen_loss: 36.9539 - dis_loss: -1.6548\n",
            "Saved checkpoint for step 7: ./tf_ckpts/ckpt-6\n",
            "\n",
            "epoch 7/20\n",
            "59400/60000 [============================>.] - ETA: 0s - gen_loss: 37.6714 - dis_loss: -1.5423\n",
            "Saved checkpoint for step 8: ./tf_ckpts/ckpt-7\n",
            "\n",
            "epoch 8/20\n",
            "59400/60000 [============================>.] - ETA: 0s - gen_loss: 37.2017 - dis_loss: -1.5229\n",
            "Saved checkpoint for step 9: ./tf_ckpts/ckpt-8\n",
            "\n",
            "epoch 9/20\n",
            "59400/60000 [============================>.] - ETA: 0s - gen_loss: 37.9163 - dis_loss: -1.4725\n",
            "Saved checkpoint for step 10: ./tf_ckpts/ckpt-9\n",
            "\n",
            "epoch 10/20\n",
            "59400/60000 [============================>.] - ETA: 0s - gen_loss: 39.1485 - dis_loss: -1.3099\n",
            "Saved checkpoint for step 11: ./tf_ckpts/ckpt-10\n",
            "\n",
            "epoch 11/20\n",
            "59400/60000 [============================>.] - ETA: 0s - gen_loss: 40.3988 - dis_loss: -1.1069\n",
            "Saved checkpoint for step 12: ./tf_ckpts/ckpt-11\n",
            "\n",
            "epoch 12/20\n",
            "59400/60000 [============================>.] - ETA: 0s - gen_loss: 40.6523 - dis_loss: -1.0789\n",
            "Saved checkpoint for step 13: ./tf_ckpts/ckpt-12\n",
            "\n",
            "epoch 13/20\n",
            "59400/60000 [============================>.] - ETA: 0s - gen_loss: 42.1707 - dis_loss: -1.1049\n",
            "Saved checkpoint for step 14: ./tf_ckpts/ckpt-13\n",
            "\n",
            "epoch 14/20\n",
            "59400/60000 [============================>.] - ETA: 0s - gen_loss: 43.3756 - dis_loss: -1.1036\n",
            "Saved checkpoint for step 15: ./tf_ckpts/ckpt-14\n",
            "\n",
            "epoch 15/20\n",
            "59400/60000 [============================>.] - ETA: 0s - gen_loss: 44.5068 - dis_loss: -1.0740\n",
            "Saved checkpoint for step 16: ./tf_ckpts/ckpt-15\n",
            "\n",
            "epoch 16/20\n",
            "59400/60000 [============================>.] - ETA: 0s - gen_loss: 45.4305 - dis_loss: -1.0369\n",
            "Saved checkpoint for step 17: ./tf_ckpts/ckpt-16\n",
            "\n",
            "epoch 17/20\n",
            "59400/60000 [============================>.] - ETA: 0s - gen_loss: 46.0245 - dis_loss: -0.9512\n",
            "Saved checkpoint for step 18: ./tf_ckpts/ckpt-17\n",
            "\n",
            "epoch 18/20\n",
            "59400/60000 [============================>.] - ETA: 0s - gen_loss: 46.9400 - dis_loss: -0.7900\n",
            "Saved checkpoint for step 19: ./tf_ckpts/ckpt-18\n",
            "\n",
            "epoch 19/20\n",
            "59400/60000 [============================>.] - ETA: 0s - gen_loss: 47.7356 - dis_loss: -0.7626\n",
            "Saved checkpoint for step 20: ./tf_ckpts/ckpt-19\n",
            "\n",
            "epoch 20/20\n",
            "59400/60000 [============================>.] - ETA: 0s - gen_loss: 48.9141 - dis_loss: -0.7061\n",
            "Saved checkpoint for step 21: ./tf_ckpts/ckpt-20\n"
          ],
          "name": "stdout"
        }
      ]
    },
    {
      "cell_type": "code",
      "metadata": {
        "id": "ipIVHI2omo7I",
        "colab": {
          "base_uri": "https://localhost:8080/",
          "height": 517
        },
        "outputId": "242b3933-5193-4cb8-900c-31cada8cf211"
      },
      "source": [
        "idx_test_img = 8167 #@param {type:\"slider\", min:0, max:9999, step:1}\n",
        "\n",
        "noise = MNIST.x_test_noise[idx_test_img:idx_test_img+5]\n",
        "\n",
        "img_recon = gan.generator(noise)\n",
        "\n",
        "plt.figure(figsize=(10,10))\n",
        "plt.imshow(np.hstack(np.squeeze(MNIST.x_test[idx_test_img:idx_test_img+5])),'gray')\n",
        "plt.title(\"Original\", fontsize=15)\n",
        "\n",
        "plt.figure(figsize=(10,10))\n",
        "plt.imshow(np.hstack(np.squeeze(noise)),'gray')\n",
        "plt.title(\"Noise images\", fontsize=15)\n",
        "\n",
        "plt.figure(figsize=(10,10))\n",
        "plt.imshow(np.hstack(np.squeeze(img_recon)),'gray')\n",
        "plt.title(\"Reconstructed\", fontsize=15)\n"
      ],
      "execution_count": null,
      "outputs": [
        {
          "output_type": "execute_result",
          "data": {
            "text/plain": [
              "Text(0.5, 1.0, 'Reconstructed')"
            ]
          },
          "metadata": {
            "tags": []
          },
          "execution_count": 46
        },
        {
          "output_type": "display_data",
          "data": {
            "image/png": "[encoded data removed]",
            "text/plain": [
              "<Figure size 720x720 with 1 Axes>"
            ]
          },
          "metadata": {
            "tags": [],
            "needs_background": "light"
          }
        },
        {
          "output_type": "display_data",
          "data": {
            "image/png": "[encoded data removed]",
            "text/plain": [
              "<Figure size 720x720 with 1 Axes>"
            ]
          },
          "metadata": {
            "tags": [],
            "needs_background": "light"
          }
        },
        {
          "output_type": "display_data",
          "data": {
            "image/png": "[encoded data removed]",
            "text/plain": [
              "<Figure size 720x720 with 1 Axes>"
            ]
          },
          "metadata": {
            "tags": [],
            "needs_background": "light"
          }
        }
      ]
    },
    {
      "cell_type": "code",
      "metadata": {
        "id": "p1RNtSMmihl0",
        "colab": {
          "base_uri": "https://localhost:8080/",
          "height": 296
        },
        "outputId": "09c18252-4ae1-4f00-916c-19ecd675004e"
      },
      "source": [
        "plt.plot(gen_loss, label=\"Generator loss\")\n",
        "plt.plot(dis_loss, label=\"Discriminator loss\")\n",
        "plt.ylabel(\"Loss\")\n",
        "plt.xlabel(\"iter\")\n",
        "plt.legend(loc=\"upper right\")"
      ],
      "execution_count": null,
      "outputs": [
        {
          "output_type": "execute_result",
          "data": {
            "text/plain": [
              "<matplotlib.legend.Legend at 0x7fab6f067828>"
            ]
          },
          "metadata": {
            "tags": []
          },
          "execution_count": 38
        },
        {
          "output_type": "display_data",
          "data": {
            "image/png": "[encoded data removed]",
            "text/plain": [
              "<Figure size 432x288 with 1 Axes>"
            ]
          },
          "metadata": {
            "tags": [],
            "needs_background": "light"
          }
        }
      ]
    },
    {
      "cell_type": "code",
      "metadata": {
        "id": "kaXHjboEJGTn"
      },
      "source": [
        "!rm -rf tf_ckpts/\n",
        "!rm -rf *.png"
      ],
      "execution_count": null,
      "outputs": []
    },
    {
      "cell_type": "code",
      "metadata": {
        "id": "U_0VGdFPVPq4"
      },
      "source": [],
      "execution_count": null,
      "outputs": []
    }
  ]
}