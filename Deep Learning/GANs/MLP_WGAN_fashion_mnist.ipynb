{
  "nbformat": 4,
  "nbformat_minor": 0,
  "metadata": {
    "colab": {
      "name": "WGAN-MLP.ipynb",
      "provenance": [],
      "collapsed_sections": []
    },
    "kernelspec": {
      "name": "python3",
      "display_name": "Python 3"
    },
    "accelerator": "GPU"
  },
  "cells": [
    {
      "cell_type": "markdown",
      "metadata": {
        "id": "z8EF3G9bOZqM"
      },
      "source": [
        "# WGAN \n",
        "\n",
        "Example of Wasserstein Generative Adversarial Network (WGAN) with TensorFlow (TF) 2. This example builds a WGAN from scratch, with custom layers and training, using  multi-layer perceptron (MLP).\n",
        "\n",
        "Sources:\n",
        "\n",
        "*   [Github - WGAN](https://github.com/martinarjovsky/WassersteinGAN)\n",
        "*   [Ahlad Kumar - Deep Learning 37](https://youtu.be/XK0TJPeZVbs)\n",
        "*   [Erik Linder-Norén - Keras GAN](https://github.com/eriklindernoren/Keras-GAN)\n",
        "\n",
        "\n",
        "`Author: Rodrigo Vimieiro`\n",
        "\n",
        "`Date: Aug, 2020`"
      ]
    },
    {
      "cell_type": "markdown",
      "metadata": {
        "id": "ljWU3aS62sCW"
      },
      "source": [
        "\n",
        "\n",
        "<table class=\"tfo-notebook-buttons\" align=\"left\">\n",
        "  <td>\n",
        "    <a target=\"_blank\" href=\"https://colab.research.google.com/github/LAVI-USP/Machine-Learning/blob/master/Deep%20Learning/GANs/MLP_WGAN_fashion_mnist.ipynb\"><img src=\"https://www.tensorflow.org/images/colab_logo_32px.png\" />Run in Google Colab</a>\n",
        "  </td>\n",
        "  <td>\n",
        "    <a target=\"_blank\" href=\"https://github.com/LAVI-USP/Machine-Learning/blob/master/Deep%20Learning/GANs/MLP_WGAN_fashion_mnist.ipynb\"><img src=\"https://www.tensorflow.org/images/GitHub-Mark-32px.png\" />View source on GitHub</a>\n",
        "  </td>\n",
        "</table>\n"
      ]
    },
    {
      "cell_type": "code",
      "metadata": {
        "id": "fPySz9wCLK-z"
      },
      "source": [
        "import tensorflow as tf\n",
        "import functools\n",
        "import matplotlib.pyplot as plt\n",
        "import sys\n",
        "import numpy as np"
      ],
      "execution_count": null,
      "outputs": []
    },
    {
      "cell_type": "markdown",
      "metadata": {
        "id": "-6QyW4Ex4z97"
      },
      "source": [
        "## Define MNIST help functions:"
      ]
    },
    {
      "cell_type": "code",
      "metadata": {
        "id": "QtAsaqBJOkQg"
      },
      "source": [
        "class MNIST_Helper():\n",
        "    \n",
        "  def download(self):\n",
        "\n",
        "    # Loads the MNIST dataset.\n",
        "    (self.x_train, self.y_train) ,(self.x_test, self.y_test) =  tf.keras.datasets.fashion_mnist.load_data()\n",
        "\n",
        "    self.x_train = np.concatenate((self.x_train, self.x_test), axis=0)\n",
        "    self.y_train = np.concatenate((self.y_train, self.y_test), axis=0)\n",
        "\n",
        "    self.train_dataset_shape = self.x_train.shape\n",
        "\n",
        "\n",
        "  def print_information(self):\n",
        "\n",
        "    # Print informations about the MNIST dataset.\n",
        "    print(\"There is %d training samples, containing images with shape of: %dx%d and %d channel\" \n",
        "          % (self.train_dataset_shape[0],self.train_dataset_shape[1],self.train_dataset_shape[2],self.train_dataset_shape[3]))\n",
        "    print(\"Train variable shape:\", end='')\n",
        "    print(self.train_dataset_shape)\n",
        "\n",
        "  def pre_process(self):\n",
        "\n",
        "    # Reshape to have 1 channel (last dimension) and normalize\n",
        "    self.x_train = np.expand_dims(self.x_train, axis=-1).astype(np.float32)\n",
        "\n",
        "    # Normalize data\n",
        "    ## https://stats.stackexchange.com/questions/185853/why-do-we-need-to-normalize-the-images-before-we-put-them-into-cnn\n",
        "    self.x_train /= 255\n",
        "    self.train_dataset_shape = self.x_train.shape\n",
        "  \n",
        "  def create_dataset_iterable(self):\n",
        "\n",
        "    # Create database objects\n",
        "    self.train_dataset = tf.data.Dataset.from_tensor_slices((self.x_train, self.y_train))\n",
        "      \n",
        "  def shuffle_dataset(self, dataset_size):\n",
        "    \n",
        "    return self.train_dataset.shuffle(dataset_size)"
      ],
      "execution_count": null,
      "outputs": []
    },
    {
      "cell_type": "markdown",
      "metadata": {
        "id": "01hvHFIm44pb"
      },
      "source": [
        "### Defining the GAN model:"
      ]
    },
    {
      "cell_type": "code",
      "metadata": {
        "id": "N8Ea8NXNO9pO"
      },
      "source": [
        "class GEN(tf.keras.models.Model):\n",
        "\n",
        "  def __init__(self, shape):\n",
        "\n",
        "    super(GEN, self).__init__()\n",
        "\n",
        "    self.img_shape = shape\n",
        "    self.noise_in_dim = 100\n",
        "\n",
        "    self.generator = self.build_generator()\n",
        "\n",
        "  def build_generator(self):\n",
        "\n",
        "    Dense = tf.keras.layers.Dense \n",
        "      \n",
        "    noiseBatch = tf.keras.layers.Input(shape=self.noise_in_dim)\n",
        "\n",
        "    Dense_1 = Dense(256, activation=\"relu\", use_bias=True)(noiseBatch)\n",
        "    Dense_2 = Dense(28 * 28, activation=\"sigmoid\", use_bias=True)(Dense_1)\n",
        "    Reshape_1 = tf.keras.layers.Reshape(target_shape=self.img_shape)(Dense_2)\n",
        "\n",
        "    model = tf.keras.Model(inputs=noiseBatch, outputs=Reshape_1, name=\"generator\")\n",
        "\n",
        "    return model\n",
        "\n",
        "  def call(self, x):\n",
        "\n",
        "    return self.generator(x)\n",
        "\n",
        "\n",
        "class DIS(tf.keras.models.Model):\n",
        "\n",
        "  def __init__(self, shape):\n",
        "\n",
        "    super(DIS, self).__init__()\n",
        "\n",
        "    self.img_shape = shape\n",
        "\n",
        "    self.discriminator = self.build_discriminator()\n",
        "\n",
        "  def build_discriminator(self):\n",
        "    \n",
        "    Flatten = tf.keras.layers.Flatten\n",
        "    Dense = tf.keras.layers.Dense\n",
        "\n",
        "    imageBatch = tf.keras.layers.Input(shape=self.img_shape)\n",
        "\n",
        "    Flatten_1 = Flatten()(imageBatch)\n",
        "    Dense_1 = Dense(256, activation=\"relu\", use_bias=True)(Flatten_1)\n",
        "    Dense_2 = Dense(1, activation=None, use_bias=True)(Dense_1)\n",
        "\n",
        "    model = tf.keras.Model(inputs=imageBatch, outputs=Dense_2, name=\"discriminator\")\n",
        "\n",
        "    return model\n",
        "\n",
        "  def call(self, x):\n",
        "\n",
        "    return self.discriminator(x)\n",
        "\n",
        "class GAN(tf.keras.models.Model):\n",
        "\n",
        "  def __init__(self, shape):\n",
        "\n",
        "    super(GAN, self).__init__()\n",
        "\n",
        "    self.img_shape = shape\n",
        "\n",
        "    self.generator = GEN(self.img_shape)\n",
        "    self.discriminator = DIS(self.img_shape)\n",
        "\n",
        "  def call(self, x):\n",
        "\n",
        "    gen_imgs = self.generator(x)\n",
        "\n",
        "    return gen_imgs"
      ],
      "execution_count": null,
      "outputs": []
    },
    {
      "cell_type": "markdown",
      "metadata": {
        "id": "Cm01frGVdDup"
      },
      "source": [
        "### Defining the optimizer:"
      ]
    },
    {
      "cell_type": "code",
      "metadata": {
        "id": "Z3_yItXPdeYG"
      },
      "source": [
        "def create_optimizer(learning_rate):\n",
        "\n",
        "  return tf.keras.optimizers.RMSprop(learning_rate) # define our optimizer"
      ],
      "execution_count": null,
      "outputs": []
    },
    {
      "cell_type": "markdown",
      "metadata": {
        "id": "wKLunVNXdQMU"
      },
      "source": [
        "### Defining the trainning step:"
      ]
    },
    {
      "cell_type": "code",
      "metadata": {
        "id": "IyY1Nn-Vdi5q"
      },
      "source": [
        "@tf.function\n",
        "def dis_train_step(gan, z_noise, x_input, optimizer):\n",
        "\n",
        "  with tf.GradientTape() as tape:\n",
        "\n",
        "    # Generate a batch of new images\n",
        "    gen_imgs = gan.generator(z_noise)       # G(z)\n",
        "\n",
        "    gen_pred  = gan.discriminator(gen_imgs) # D(G(z))\n",
        "    real_pred = gan.discriminator(x_input)  # D(x)\n",
        "\n",
        "    # Calc the Wasserstein loss\n",
        "    # The minus sign is because we want to maximize\n",
        "    loss = -(tf.math.reduce_mean(real_pred) - tf.math.reduce_mean(gen_pred))\n",
        "\n",
        "    ### Backpropagation ###\n",
        "    # Get the gradients\n",
        "    grads = tape.gradient(loss, gan.trainable_variables)\n",
        "\n",
        "    # Update the weights\n",
        "    optimizer.apply_gradients(zip(grads, gan.trainable_variables))\n",
        "\n",
        "  return loss\n",
        "\n",
        "@tf.function\n",
        "def gen_train_step(gan, z_noise, optimizer):\n",
        "\n",
        "  with tf.GradientTape() as tape:\n",
        "\n",
        "    # Generate a batch of new images\n",
        "    gen_imgs = gan.generator(z_noise)       # G(z)\n",
        "    gen_pred  = gan.discriminator(gen_imgs) # D(G(z))\n",
        "\n",
        "    # Calc the Wasserstein loss\n",
        "    # The minus sign is due to the formula\n",
        "    loss = -tf.math.reduce_mean(gen_pred)\n",
        "\n",
        "    ### Backpropagation ###\n",
        "    # Get the gradients\n",
        "    grads = tape.gradient(loss, gan.trainable_variables)\n",
        "\n",
        "    # Update the weights\n",
        "    optimizer.apply_gradients(zip(grads, gan.trainable_variables))\n",
        "\n",
        "  return loss\n"
      ],
      "execution_count": null,
      "outputs": []
    },
    {
      "cell_type": "markdown",
      "metadata": {
        "id": "27gAlGoNdVqE"
      },
      "source": [
        "### Defining the trainning loop:\n"
      ]
    },
    {
      "cell_type": "code",
      "metadata": {
        "id": "2omGwAh-dnXZ"
      },
      "source": [
        "def sample_images(gan, epoch, show=False):\n",
        "\n",
        "  r, c = 5, 5\n",
        "  # Sample noise as generator input\n",
        "  z_noise = tf.random.uniform(shape=(r * c, 100), minval=-1, maxval=1,)\n",
        "  gen_imgs = gan.generator(z_noise)       # G(z)\n",
        "\n",
        "  # Rescale images 0 - 1\n",
        "  gen_imgs = 0.5 * gen_imgs + 0.5\n",
        "\n",
        "  fig, axs = plt.subplots(r, c)\n",
        "  cnt = 0\n",
        "  for i in range(r):\n",
        "      for j in range(c):\n",
        "          axs[i,j].imshow(gen_imgs[cnt, :,:,0], cmap='gray')\n",
        "          axs[i,j].axis('off')\n",
        "          cnt += 1\n",
        "  if show:\n",
        "    fig.show()\n",
        "  else:\n",
        "    fig.savefig(\"mnist_%d.png\" % epoch)\n",
        "    plt.close()"
      ],
      "execution_count": null,
      "outputs": []
    },
    {
      "cell_type": "code",
      "metadata": {
        "id": "g602frKldoKS"
      },
      "source": [
        "def train_model(gan, num_epochs, batch_size, learning_rate, sample_interval):\n",
        "\n",
        "  dOptimizer = create_optimizer(learning_rate)\n",
        "  gOptimizer = create_optimizer(learning_rate)\n",
        "\n",
        "  gen_loss_history = []\n",
        "  dis_loss_history = []\n",
        "\n",
        "  metrics_names = ['gen_loss','dis_loss'] \n",
        "  \n",
        "  # Loop on each epoch\n",
        "  for epoch in range(num_epochs):\n",
        "\n",
        "    print(\"\\nepoch {}/{}\".format(epoch+1,num_epochs))\n",
        "\n",
        "    progBar = tf.keras.utils.Progbar(MNIST.train_dataset_shape[0], stateful_metrics=metrics_names, interval=0.5)\n",
        "\n",
        "    # Loop on each batch of train dataset\n",
        "    for idX, (batch_x, batch_y) in enumerate(MNIST.train_dataset.batch(batch_size)):\n",
        "\n",
        "      for _ in range(5):\n",
        "\n",
        "        # ---------------------\n",
        "        #  Train Discriminator\n",
        "        # ---------------------\n",
        "\n",
        "        # Get a batch of images\n",
        "        x_input = batch_x\n",
        "        \n",
        "        # Sample noise as generator input\n",
        "        z_noise = tf.random.uniform(shape=(x_input.shape[0],100), minval=-1, maxval=1,)\n",
        "\n",
        "        # Train the discriminator model\n",
        "        gan.generator.trainable = False\n",
        "        train_Dloss = dis_train_step(gan, z_noise, x_input, dOptimizer)\n",
        "        gan.generator.trainable = True\n",
        "\n",
        "        # Clip discriminator weights\n",
        "        for l in gan.discriminator.layers:\n",
        "            weights = l.get_weights()\n",
        "            weights = [np.clip(w, -0.01, 0.01) for w in weights]\n",
        "            l.set_weights(weights)\n",
        "\n",
        "      # ---------------------\n",
        "      #  Train Generator\n",
        "      # ---------------------\n",
        "      gan.discriminator.trainable = False\n",
        "      train_Gloss = gen_train_step(gan, z_noise, gOptimizer)\n",
        "      gan.discriminator.trainable = True\n",
        "\n",
        "\n",
        "      # Update and record losses\n",
        "      gen_loss_history.append(train_Gloss)\n",
        "      dis_loss_history.append(train_Dloss)\n",
        "\n",
        "      values=[('gen_loss',train_Gloss),('dis_loss',train_Dloss)]\n",
        "\n",
        "      progBar.update(idX*batch_size, values=values) \n",
        "\n",
        "    sample_images(gan, epoch)\n",
        "    MNIST.shuffle_dataset(MNIST.train_dataset_shape[0])\n",
        "\n",
        "  return gen_loss_history, dis_loss_history"
      ],
      "execution_count": null,
      "outputs": []
    },
    {
      "cell_type": "markdown",
      "metadata": {
        "id": "63li-tXAPgIW"
      },
      "source": [
        "-----------------------------------------------------------------------\n",
        "## %% Main code %%"
      ]
    },
    {
      "cell_type": "code",
      "metadata": {
        "id": "AA_MKjl8PhcM"
      },
      "source": [
        "# Create MNIST helper class\n",
        "MNIST = MNIST_Helper()\n",
        "\n",
        "# Download the dataset\n",
        "MNIST.download()\n",
        "\n",
        "# Pre processing\n",
        "MNIST.pre_process()\n",
        "\n",
        "# Display some dataset information\n",
        "MNIST.print_information()\n",
        "\n",
        "# Create TF Dataset object \n",
        "MNIST.create_dataset_iterable()"
      ],
      "execution_count": null,
      "outputs": []
    },
    {
      "cell_type": "code",
      "metadata": {
        "id": "2RbbCjnXPlcX",
        "colab": {
          "base_uri": "https://localhost:8080/",
          "height": 191
        },
        "outputId": "ba0dad2b-e8a4-4c7d-97c6-5cd1a8242778"
      },
      "source": [
        "### Examining the fashion MNIST training dataset ###\n",
        "\n",
        "idx_train_img = 18948 #@param {type:\"slider\", min:0, max:59999, step:1}\n",
        "\n",
        "plt.figure(figsize=(5,5))\n",
        "plt.subplot(1, 2, 1)\n",
        "plt.imshow(np.squeeze(MNIST.x_train[idx_train_img]), 'gray')\n",
        "plt.title(np.squeeze(MNIST.y_train[idx_train_img])); plt.grid(False)"
      ],
      "execution_count": null,
      "outputs": [
        {
          "output_type": "display_data",
          "data": {
            "image/png": "[encoded data removed]",
            "text/plain": [
              "<Figure size 360x360 with 1 Axes>"
            ]
          },
          "metadata": {
            "tags": [],
            "needs_background": "light"
          }
        }
      ]
    },
    {
      "cell_type": "code",
      "metadata": {
        "id": "l27iOt0oQPjM"
      },
      "source": [
        "# Training hyperparameters\n",
        "roiSize = 28\n",
        "epochs = 30 \n",
        "batch_size = 128\n",
        "learning_rate = 2e-4\n",
        "sample_interval = 50\n",
        "\n",
        "# Create model\n",
        "gan = GAN(shape=(roiSize,roiSize,1))"
      ],
      "execution_count": null,
      "outputs": []
    },
    {
      "cell_type": "code",
      "metadata": {
        "id": "g9dvAsRaz3Fu",
        "colab": {
          "base_uri": "https://localhost:8080/",
          "height": 1000
        },
        "outputId": "843aaaae-8014-4de0-e751-4da82e6ebd47"
      },
      "source": [
        "# Train the model \n",
        "gen_loss, dis_loss= train_model(gan, epochs, batch_size=batch_size, learning_rate=learning_rate, sample_interval=sample_interval)"
      ],
      "execution_count": null,
      "outputs": [
        {
          "output_type": "stream",
          "text": [
            "\n",
            "epoch 1/30\n",
            "69888/70000 [============================>.] - ETA: 0s - gen_loss: -0.0263 - dis_loss: -0.1269\n",
            "epoch 2/30\n",
            "68352/70000 [============================>.] - ETA: 0s - gen_loss: 0.0148 - dis_loss: -0.1312\n",
            "epoch 3/30\n",
            "69632/70000 [============================>.] - ETA: 0s - gen_loss: -0.0656 - dis_loss: -0.1186\n",
            "epoch 4/30\n",
            "68736/70000 [============================>.] - ETA: 0s - gen_loss: 0.0456 - dis_loss: -0.0823 \n",
            "epoch 5/30\n",
            "69632/70000 [============================>.] - ETA: 0s - gen_loss: -0.0403 - dis_loss: -0.0635\n",
            "epoch 6/30\n",
            "69248/70000 [============================>.] - ETA: 0s - gen_loss: -0.0067 - dis_loss: -0.0646\n",
            "epoch 7/30\n",
            "69376/70000 [============================>.] - ETA: 0s - gen_loss: 0.0176 - dis_loss: -0.0487 \n",
            "epoch 8/30\n",
            "68352/70000 [============================>.] - ETA: 0s - gen_loss: -0.0081 - dis_loss: -0.0525\n",
            "epoch 9/30\n",
            "69888/70000 [============================>.] - ETA: 0s - gen_loss: 0.0170 - dis_loss: -0.0511 \n",
            "epoch 10/30\n",
            "69760/70000 [============================>.] - ETA: 0s - gen_loss: -0.0017 - dis_loss: -0.0383\n",
            "epoch 11/30\n",
            "68992/70000 [============================>.] - ETA: 0s - gen_loss: -0.0036 - dis_loss: -0.0373\n",
            "epoch 12/30\n",
            "69376/70000 [============================>.] - ETA: 0s - gen_loss: -0.0118 - dis_loss: -0.0350\n",
            "epoch 13/30\n",
            "68224/70000 [============================>.] - ETA: 0s - gen_loss: 0.0498 - dis_loss: -0.0405\n",
            "epoch 14/30\n",
            "69760/70000 [============================>.] - ETA: 0s - gen_loss: -0.0306 - dis_loss: -0.0340\n",
            "epoch 15/30\n",
            "69376/70000 [============================>.] - ETA: 0s - gen_loss: -0.0138 - dis_loss: -0.0366\n",
            "epoch 16/30\n",
            "68096/70000 [============================>.] - ETA: 0s - gen_loss: 0.0828 - dis_loss: -0.0315 \n",
            "epoch 17/30\n",
            "69248/70000 [============================>.] - ETA: 0s - gen_loss: -0.0024 - dis_loss: -0.0433\n",
            "epoch 18/30\n",
            "68864/70000 [============================>.] - ETA: 0s - gen_loss: 0.0130 - dis_loss: -0.0408\n",
            "epoch 19/30\n",
            "68992/70000 [============================>.] - ETA: 0s - gen_loss: -0.0127 - dis_loss: -0.0305\n",
            "epoch 20/30\n",
            "69248/70000 [============================>.] - ETA: 0s - gen_loss: -0.0520 - dis_loss: -0.0454\n",
            "epoch 21/30\n",
            "68352/70000 [============================>.] - ETA: 0s - gen_loss: 0.0686 - dis_loss: -0.0668\n",
            "epoch 22/30\n",
            "68992/70000 [============================>.] - ETA: 0s - gen_loss: -0.0284 - dis_loss: -0.0306\n",
            "epoch 23/30\n",
            "69632/70000 [============================>.] - ETA: 0s - gen_loss: -0.0542 - dis_loss: -0.0377\n",
            "epoch 24/30\n",
            "69632/70000 [============================>.] - ETA: 0s - gen_loss: -0.0934 - dis_loss: -0.0416\n",
            "epoch 25/30\n",
            "68864/70000 [============================>.] - ETA: 0s - gen_loss: -0.0037 - dis_loss: -0.0295\n",
            "epoch 26/30\n",
            "67968/70000 [============================>.] - ETA: 0s - gen_loss: -0.0105 - dis_loss: -0.0229\n",
            "epoch 27/30\n",
            "69504/70000 [============================>.] - ETA: 0s - gen_loss: -0.0334 - dis_loss: -0.0321\n",
            "epoch 28/30\n",
            "69376/70000 [============================>.] - ETA: 0s - gen_loss: -0.0333 - dis_loss: -0.0252\n",
            "epoch 29/30\n",
            "68224/70000 [============================>.] - ETA: 0s - gen_loss: 0.1006 - dis_loss: -0.0199 \n",
            "epoch 30/30\n",
            "67968/70000 [============================>.] - ETA: 0s - gen_loss: -0.0393 - dis_loss: -0.0305"
          ],
          "name": "stdout"
        }
      ]
    },
    {
      "cell_type": "code",
      "metadata": {
        "id": "_7ndDNivQZXP",
        "colab": {
          "base_uri": "https://localhost:8080/",
          "height": 248
        },
        "outputId": "b5670ca7-c3af-495f-ade1-302a291ff3e4"
      },
      "source": [
        "sample_images(gan, 0, show=True)"
      ],
      "execution_count": null,
      "outputs": [
        {
          "output_type": "display_data",
          "data": {
            "image/png": "[encoded data removed]",
            "text/plain": [
              "<Figure size 432x288 with 25 Axes>"
            ]
          },
          "metadata": {
            "tags": [],
            "needs_background": "light"
          }
        }
      ]
    },
    {
      "cell_type": "code",
      "metadata": {
        "id": "p1RNtSMmihl0",
        "colab": {
          "base_uri": "https://localhost:8080/",
          "height": 296
        },
        "outputId": "59d7a74b-1ce4-454d-91f1-2404e9fc060b"
      },
      "source": [
        "plt.plot(gen_loss, label=\"Generator loss\")\n",
        "plt.plot(dis_loss, label=\"Discriminator loss\")\n",
        "plt.ylabel(\"Loss\")\n",
        "plt.xlabel(\"iter\")\n",
        "plt.legend(loc=\"upper right\")"
      ],
      "execution_count": null,
      "outputs": [
        {
          "output_type": "execute_result",
          "data": {
            "text/plain": [
              "<matplotlib.legend.Legend at 0x7ff0c0f1f400>"
            ]
          },
          "metadata": {
            "tags": []
          },
          "execution_count": 14
        },
        {
          "output_type": "display_data",
          "data": {
            "image/png": "[encoded data removed]",
            "text/plain": [
              "<Figure size 432x288 with 1 Axes>"
            ]
          },
          "metadata": {
            "tags": [],
            "needs_background": "light"
          }
        }
      ]
    }
  ]
}