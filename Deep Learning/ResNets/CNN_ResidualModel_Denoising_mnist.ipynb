{
  "nbformat": 4,
  "nbformat_minor": 0,
  "metadata": {
    "colab": {
      "name": "CNN_ResidualModel_Denoising_mnist.ipynb",
      "provenance": [],
      "collapsed_sections": [],
      "toc_visible": true
    },
    "kernelspec": {
      "name": "python3",
      "display_name": "Python 3"
    },
    "accelerator": "GPU"
  },
  "cells": [
    {
      "cell_type": "markdown",
      "metadata": {
        "id": "z8EF3G9bOZqM"
      },
      "source": [
        "# Low-dose Residual Model \n",
        "\n",
        "TensorFlow example of a Residual Model proposed at this [Github page](https://github.com/WANG-AXIS/LdDMDenoising) to restore low-dose mammography. \n",
        "\n",
        "`Author: Rodrigo Vimieiro`\n",
        "\n",
        "`Date: Feb, 2021`"
      ]
    },
    {
      "cell_type": "markdown",
      "metadata": {
        "id": "ljWU3aS62sCW"
      },
      "source": [
        "\n",
        "\n",
        "<table class=\"tfo-notebook-buttons\" align=\"left\">\n",
        "  <td>\n",
        "    <a target=\"_blank\" href=\"https://colab.research.google.com/github/LAVI-USP/Machine-Learning/blob/master/\"><img src=\"https://www.tensorflow.org/images/colab_logo_32px.png\" />Run in Google Colab</a>\n",
        "  </td>\n",
        "  <td>\n",
        "    <a target=\"_blank\" href=\"https://github.com/LAVI-USP/Machine-Learning/blob/master/\"><img src=\"https://www.tensorflow.org/images/GitHub-Mark-32px.png\" />View source on GitHub</a>\n",
        "  </td>\n",
        "</table>\n"
      ]
    },
    {
      "cell_type": "code",
      "metadata": {
        "id": "fPySz9wCLK-z"
      },
      "source": [
        "import tensorflow as tf\n",
        "import functools\n",
        "import matplotlib.pyplot as plt\n",
        "import sys\n",
        "import numpy as np"
      ],
      "execution_count": null,
      "outputs": []
    },
    {
      "cell_type": "markdown",
      "metadata": {
        "id": "-6QyW4Ex4z97"
      },
      "source": [
        "## Define MNIST help functions:"
      ]
    },
    {
      "cell_type": "code",
      "metadata": {
        "id": "QtAsaqBJOkQg"
      },
      "source": [
        "class MNIST_Helper():\n",
        "    \n",
        "  def download(self):\n",
        "\n",
        "    # Loads the MNIST dataset.\n",
        "    (self.x_train, self.y_train) ,(self.x_test, self.y_test) =  tf.keras.datasets.mnist.load_data()\n",
        "\n",
        "    self.train_dataset_shape = self.x_train.shape\n",
        "    self.test_dataset_shape = self.x_test.shape\n",
        "\n",
        "\n",
        "  def print_information(self):\n",
        "\n",
        "    # Print informations about the MNIST dataset.\n",
        "    print(\"There is %d training samples, containing images with shape of: %dx%d and %d channel\" \n",
        "          % (self.train_dataset_shape[0],self.train_dataset_shape[1],self.train_dataset_shape[2],self.train_dataset_shape[3]))\n",
        "    print(\"Train variable shape:\", end='')\n",
        "    print(self.train_dataset_shape)\n",
        "\n",
        "  def pre_process(self):\n",
        "\n",
        "    # Reshape to have 1 channel (last dimension) and normalize\n",
        "    self.x_train = np.expand_dims(self.x_train, axis=-1).astype(np.float32)\n",
        "    self.x_test = np.expand_dims(self.x_test, axis=-1).astype(np.float32)\n",
        "\n",
        "    # Normalize data\n",
        "    ## https://stats.stackexchange.com/questions/185853/why-do-we-need-to-normalize-the-images-before-we-put-them-into-cnn\n",
        "    self.x_train /= 255 #(self.x_train - 127.5) / 127.5\n",
        "    self.x_test /= 255 #(self.x_test - 127.5) / 127.5\n",
        "\n",
        "    self.train_dataset_shape = self.x_train.shape\n",
        "    self.test_dataset = self.x_test.shape\n",
        "\n",
        "  def noise_injection(self):\n",
        "\n",
        "    # Gaussian noise\n",
        "    self.x_train_noise = self.x_train + tf.random.normal(self.x_train.shape, mean=1, stddev=0.5, dtype=np.float32)\n",
        "    self.x_test_noise = self.x_test + tf.random.normal(self.x_test.shape, mean=1, stddev=0.5, dtype=np.float32)\n",
        "\n",
        "    self.x_train_noise = self.x_train_noise - np.min(self.x_train_noise) \n",
        "    self.x_train_noise /= np.max(self.x_train_noise)\n",
        "\n",
        "    self.x_test_noise = self.x_test_noise - np.min(self.x_test_noise) \n",
        "    self.x_test_noise /= np.max(self.x_test_noise)\n",
        "\n",
        "    #self.x_train_noise = np.clip(self.x_train_noise, 0, 1)\n",
        "    #self.x_test_noise = np.clip(self.x_test_noise, 0, 1)\n",
        "  \n",
        "  def create_dataset_iterable(self):\n",
        "\n",
        "    # Create database objects\n",
        "    self.train_dataset = tf.data.Dataset.from_tensor_slices((self.x_train_noise, self.x_train))\n",
        "    self.test_dataset = tf.data.Dataset.from_tensor_slices((self.x_test_noise, self.x_test))\n",
        "      \n",
        "  def shuffle_dataset(self, dataset_size):\n",
        "    \n",
        "    return self.train_dataset.shuffle(dataset_size)"
      ],
      "execution_count": null,
      "outputs": []
    },
    {
      "cell_type": "markdown",
      "metadata": {
        "id": "01hvHFIm44pb"
      },
      "source": [
        "### Defining the Residual model:"
      ]
    },
    {
      "cell_type": "code",
      "metadata": {
        "id": "N8Ea8NXNO9pO"
      },
      "source": [
        "class BasicBlock_model(tf.keras.Model):\n",
        "\n",
        "  def __init__(self):\n",
        "\n",
        "    super(BasicBlock_model, self).__init__()\n",
        "    \n",
        "    self.n_filters = 64\n",
        "    self.img_input_shape = (28,28,64) # nRows X nCols X nChannels\n",
        "\n",
        "    self.BasicBlock = self.build_BasicBlock()\n",
        "\n",
        "  def build_BasicBlock(self):\n",
        "\n",
        "    Conv2D = functools.partial(tf.keras.layers.Conv2D, padding='same', activation=None, strides=1, use_bias=True)      \n",
        "    BatchNormalization = tf.keras.layers.BatchNormalization\n",
        "    ReLU = tf.keras.layers.ReLU\n",
        "    ResAdd = tf.keras.layers.Add()\n",
        "\n",
        "    imgBatch = tf.keras.layers.Input(shape=self.img_input_shape)\n",
        "\n",
        "    Conv2D_1 = Conv2D(filters=self.n_filters, kernel_size=3)(imgBatch)\n",
        "    Batch_1 = BatchNormalization()(Conv2D_1)\n",
        "    ReLU_1 = ReLU()(Batch_1)\n",
        "      \n",
        "    Conv2D_2 = Conv2D(filters=self.n_filters, kernel_size=3)(ReLU_1)\n",
        "    Batch_2 = BatchNormalization()(Conv2D_2)\n",
        "    Res_1 = ResAdd([Batch_2, imgBatch])\n",
        "    ReLU_2 = ReLU()(Res_1)\n",
        "\n",
        "    model = tf.keras.Model(inputs=imgBatch, outputs=ReLU_2, name=\"BasicBlock\")\n",
        "\n",
        "    return model\n",
        "  \n",
        "  def call(self, x):\n",
        "\n",
        "    return self.BasicBlock(x)\n",
        "\n",
        "class GreatBlock_model(tf.keras.Model):\n",
        "\n",
        "  def __init__(self):\n",
        "\n",
        "    super(GreatBlock_model, self).__init__()\n",
        "    \n",
        "    self.n_filters = 64\n",
        "    self.img_input_shape = (28,28,64) # nRows X nCols X nChannels\n",
        "\n",
        "    self.BasicBlock_1 = BasicBlock_model()\n",
        "\n",
        "    self.BasicBlock_2 = BasicBlock_model()\n",
        "\n",
        "    self.GreatBlock = self.build_GreatBlock()\n",
        "\n",
        "  def build_GreatBlock(self):\n",
        "\n",
        "    Conv2D = functools.partial(tf.keras.layers.Conv2D, padding='same', activation=None, strides=1, use_bias=True)      \n",
        "    ReLU = tf.keras.layers.ReLU\n",
        "    ResAdd = tf.keras.layers.Add()\n",
        "\n",
        "    imgBatch = tf.keras.layers.Input(shape=self.img_input_shape)\n",
        "\n",
        "    BasicBlock_1 = self.BasicBlock_1(imgBatch)\n",
        "\n",
        "    BasicBlock_2 = self.BasicBlock_2(BasicBlock_1)\n",
        "\n",
        "    Res_1 = ResAdd([imgBatch, BasicBlock_2])\n",
        "\n",
        "    ReLU_1 = ReLU()(Res_1)\n",
        "\n",
        "    model = tf.keras.Model(inputs=imgBatch, outputs=[ReLU_1], name=\"GreatBlock\")\n",
        "\n",
        "    return model\n",
        "\n",
        "  def call(self, x):\n",
        "\n",
        "    return self.GreatBlock(x)\n",
        "\n",
        "class residual_model(tf.keras.Model):\n",
        "\n",
        "  def __init__(self):\n",
        "\n",
        "    super(residual_model, self).__init__()\n",
        "    \n",
        "    self.n_filters = 64\n",
        "    self.img_input_shape = (28,28,1) # nRows X nCols X nChannels\n",
        "\n",
        "    self.GreatBlock_1 = GreatBlock_model()\n",
        "\n",
        "    self.GreatBlock_2 = GreatBlock_model()\n",
        "\n",
        "    self.resModel = self.build_ResModel()\n",
        "\n",
        "\n",
        "  def build_ResModel(self):\n",
        "\n",
        "    Conv2D = functools.partial(tf.keras.layers.Conv2D, padding='same', activation=None, strides=1, use_bias=True)      \n",
        "    ReLU = tf.keras.layers.ReLU\n",
        "    ResAdd = tf.keras.layers.Add()\n",
        "\n",
        "    imgBatch = tf.keras.layers.Input(shape=self.img_input_shape)\n",
        "\n",
        "    Conv2D_1 = Conv2D(filters=self.n_filters, kernel_size=3)(imgBatch)\n",
        "\n",
        "    GreatBlock_1 = self.GreatBlock_1(Conv2D_1)\n",
        "\n",
        "    GreatBlock_2 = self.GreatBlock_2(GreatBlock_1)\n",
        "\n",
        "    Conv2D_2 = Conv2D(filters=1, kernel_size=3)(GreatBlock_2)\n",
        "\n",
        "    Res_1 = ResAdd([imgBatch, Conv2D_2])\n",
        "\n",
        "    ReLU_1 = ReLU()(Res_1)\n",
        "\n",
        "    model = tf.keras.Model(inputs=imgBatch, outputs=[ReLU_1], name=\"ResModel\")\n",
        "    \n",
        "    return model\n",
        "\n",
        "  def call(self, x):\n",
        "\n",
        "    return self.resModel(x)"
      ],
      "execution_count": null,
      "outputs": []
    },
    {
      "cell_type": "markdown",
      "metadata": {
        "id": "Jf3P0E78273P"
      },
      "source": [
        "### Defining the loss function:"
      ]
    },
    {
      "cell_type": "code",
      "metadata": {
        "id": "UoiL9cag280c"
      },
      "source": [
        "def loss_function(img_recon, img_without_noise):\n",
        "\n",
        "    # MSE loss\n",
        "    loss_MSE = tf.math.reduce_mean(tf.square(img_recon - img_without_noise))\n",
        "\n",
        "    # Combination of both losses\n",
        "    loss = loss_MSE \n",
        "\n",
        "    return loss"
      ],
      "execution_count": null,
      "outputs": []
    },
    {
      "cell_type": "markdown",
      "metadata": {
        "id": "Cm01frGVdDup"
      },
      "source": [
        "### Defining the optimizer:"
      ]
    },
    {
      "cell_type": "code",
      "metadata": {
        "id": "Z3_yItXPdeYG"
      },
      "source": [
        "def create_optimizer(learning_rate):\n",
        "\n",
        "  return tf.keras.optimizers.Adam(learning_rate, beta_1=0.5) # define our optimizer"
      ],
      "execution_count": null,
      "outputs": []
    },
    {
      "cell_type": "markdown",
      "metadata": {
        "id": "wKLunVNXdQMU"
      },
      "source": [
        "### Defining the trainning step:"
      ]
    },
    {
      "cell_type": "code",
      "metadata": {
        "id": "IyY1Nn-Vdi5q"
      },
      "source": [
        "@tf.function\n",
        "def train_step(autoencoder, img_with_noise , img_without_noise, optimizer):\n",
        "\n",
        "  with tf.GradientTape() as tape:\n",
        "        \n",
        "    # Feed images into autoencoder\n",
        "    img_recon = autoencoder(img_with_noise)\n",
        "        \n",
        "    # Calc the loss\n",
        "    loss = loss_function(img_recon, img_without_noise)\n",
        "\n",
        "  ### Backpropagation ###\n",
        "  # Get the gradients\n",
        "  grads = tape.gradient(loss, autoencoder.trainable_variables)\n",
        "\n",
        "  # Update the weights\n",
        "  optimizer.apply_gradients(zip(grads, autoencoder.trainable_variables))\n",
        "\n",
        "  return loss"
      ],
      "execution_count": null,
      "outputs": []
    },
    {
      "cell_type": "markdown",
      "metadata": {
        "id": "27gAlGoNdVqE"
      },
      "source": [
        "### Defining the trainning loop:\n"
      ]
    },
    {
      "cell_type": "code",
      "metadata": {
        "id": "2omGwAh-dnXZ"
      },
      "source": [
        "def train_model(autoencoder, dataset, num_epochs, batch_size, learning_rate):\n",
        "\n",
        "  optimizer = create_optimizer(learning_rate)\n",
        "\n",
        "  train_loss_history = []\n",
        "  validation_loss_history = []\n",
        "\n",
        "  metrics_names = ['train_loss','val_loss'] \n",
        "  \n",
        "  # Loop on each epoch\n",
        "  for epoch in range(num_epochs):\n",
        "\n",
        "    print(\"\\nepoch {}/{}\".format(epoch+1,num_epochs))\n",
        "\n",
        "    progBar = tf.keras.utils.Progbar(MNIST.train_dataset_shape[0], stateful_metrics=metrics_names)\n",
        "\n",
        "    # Loop on each batch of train dataset\n",
        "    for idX, (batch_x, batch_y) in enumerate(MNIST.train_dataset.batch(batch_size)): \n",
        "        \n",
        "      # Train the model\n",
        "      train_loss = train_step(autoencoder, batch_x, batch_y, optimizer)\n",
        "\n",
        "      values=[('train_loss',train_loss)]\n",
        "\n",
        "      progBar.update(idX*batch_size, values=values) \n",
        "\n",
        "      train_loss_history.append(tf.math.reduce_mean(train_loss))\n",
        "\n",
        "\n",
        "    # Loop on each batch of test dataset for validation\n",
        "    for batch_x, batch_y in MNIST.test_dataset.batch(batch_size):\n",
        "\n",
        "      # Foward image through the network\n",
        "      img_recon = autoencoder(batch_x)\n",
        "\n",
        "      # Calc the loss\n",
        "      val_loss = loss_function(img_recon, batch_y)\n",
        "\n",
        "      validation_loss_history.append(tf.math.reduce_mean(val_loss))\n",
        "\n",
        "\n",
        "    # Update progBar with val_loss\n",
        "    values=[('train_loss',train_loss),('val_loss',val_loss)]\n",
        "\n",
        "    progBar.update(MNIST.train_dataset_shape[0], values=values, finalize=True)\n",
        "\n",
        "\n",
        "    # Shuffle train dataset for next epoch\n",
        "    MNIST.train_dataset = MNIST.shuffle_dataset(MNIST.train_dataset_shape[0])\n",
        "  \n",
        "  train_loss = [train_loss_history[x].numpy() for x in range(0,len(train_loss_history),len(train_loss_history)//num_epochs)]\n",
        "  val_loss = [validation_loss_history[x].numpy() for x in range(0,len(validation_loss_history),len(validation_loss_history)//num_epochs)]\n",
        "  \n",
        "  return train_loss, val_loss"
      ],
      "execution_count": null,
      "outputs": []
    },
    {
      "cell_type": "markdown",
      "metadata": {
        "id": "63li-tXAPgIW"
      },
      "source": [
        "-----------------------------------------------------------------------\n",
        "## %% Main code %%"
      ]
    },
    {
      "cell_type": "code",
      "metadata": {
        "id": "AA_MKjl8PhcM",
        "colab": {
          "base_uri": "https://localhost:8080/"
        },
        "outputId": "98ba282d-0ca0-45fc-cc61-58c75c8ec8fc"
      },
      "source": [
        "# Create MNIST helper class\n",
        "MNIST = MNIST_Helper()\n",
        "\n",
        "# Download the dataset\n",
        "MNIST.download()\n",
        "\n",
        "# Pre processing\n",
        "MNIST.pre_process()\n",
        "\n",
        "# Display some dataset information\n",
        "MNIST.print_information()\n",
        "\n",
        "# Noise injection\n",
        "MNIST.noise_injection()\n",
        "\n",
        "# Create TF Dataset object \n",
        "MNIST.create_dataset_iterable()"
      ],
      "execution_count": null,
      "outputs": [
        {
          "output_type": "stream",
          "text": [
            "There is 60000 training samples, containing images with shape of: 28x28 and 1 channel\n",
            "Train variable shape:(60000, 28, 28, 1)\n"
          ],
          "name": "stdout"
        }
      ]
    },
    {
      "cell_type": "code",
      "metadata": {
        "id": "2RbbCjnXPlcX",
        "colab": {
          "base_uri": "https://localhost:8080/",
          "height": 191
        },
        "outputId": "0bca3732-c947-4350-fbd5-de5856565ab2"
      },
      "source": [
        "### Examining the MNIST training dataset ###\n",
        "\n",
        "idx_train_img = 18787 #@param {type:\"slider\", min:0, max:59999, step:1}\n",
        "\n",
        "plt.figure(figsize=(5,5))\n",
        "plt.subplot(1, 2, 1)\n",
        "plt.imshow(np.squeeze(MNIST.x_train[idx_train_img]),'gray')\n",
        "plt.title(np.squeeze(MNIST.y_train[idx_train_img])); plt.grid(False)\n",
        "\n",
        "plt.subplot(1, 2, 2)\n",
        "plt.imshow(np.squeeze(MNIST.x_train_noise[idx_train_img]),'gray')\n",
        "plt.title(np.squeeze(MNIST.y_train[idx_train_img])); plt.grid(False)"
      ],
      "execution_count": null,
      "outputs": [
        {
          "output_type": "display_data",
          "data": {
            "image/png": "[encoded data removed]",
            "text/plain": [
              "<Figure size 360x360 with 2 Axes>"
            ]
          },
          "metadata": {
            "tags": [],
            "needs_background": "light"
          }
        }
      ]
    },
    {
      "cell_type": "code",
      "metadata": {
        "id": "etD_IBtb2bhV"
      },
      "source": [
        "resModel = residual_model()"
      ],
      "execution_count": null,
      "outputs": []
    },
    {
      "cell_type": "code",
      "metadata": {
        "id": "l27iOt0oQPjM",
        "colab": {
          "base_uri": "https://localhost:8080/"
        },
        "outputId": "bb61a5a9-ea97-4cb6-c043-8ea3863ccb6c"
      },
      "source": [
        "# Training hyperparameters\n",
        "num_epochs = 5\n",
        "batch_size = 256\n",
        "learning_rate = 1e-4\n",
        "\n",
        "# Train the model \n",
        "train_loss, val_loss = train_model(resModel, MNIST, num_epochs, batch_size, learning_rate)"
      ],
      "execution_count": null,
      "outputs": [
        {
          "output_type": "stream",
          "text": [
            "\n",
            "epoch 1/5\n",
            "60000/60000 [==============================] - 36s 599us/step - train_loss: 0.0198 - val_loss: 0.0239\n",
            "\n",
            "epoch 2/5\n",
            "60000/60000 [==============================] - 33s 547us/step - train_loss: 0.0157 - val_loss: 0.0186\n",
            "\n",
            "epoch 3/5\n",
            "60000/60000 [==============================] - 32s 538us/step - train_loss: 0.0154 - val_loss: 0.0164\n",
            "\n",
            "epoch 4/5\n",
            "60000/60000 [==============================] - 33s 549us/step - train_loss: 0.0135 - val_loss: 0.0152\n",
            "\n",
            "epoch 5/5\n",
            "60000/60000 [==============================] - 32s 541us/step - train_loss: 0.0127 - val_loss: 0.0141\n"
          ],
          "name": "stdout"
        }
      ]
    },
    {
      "cell_type": "code",
      "metadata": {
        "colab": {
          "base_uri": "https://localhost:8080/",
          "height": 312
        },
        "id": "D6es7IYF2fbh",
        "outputId": "bf7d7b42-15a6-47aa-8a1f-d4a2ed4873b9"
      },
      "source": [
        "# Plot loss results\n",
        "N = np.arange(0, num_epochs)\n",
        "plt.figure()\n",
        "plt.plot(N, train_loss, label=\"train_loss\")\n",
        "plt.plot(N, val_loss, label=\"val_loss\")\n",
        "plt.title(\"Results\")\n",
        "plt.xlabel(\"Epoch #\")\n",
        "plt.ylabel(\"Loss\")\n",
        "plt.legend(loc=\"upper right\")"
      ],
      "execution_count": null,
      "outputs": [
        {
          "output_type": "execute_result",
          "data": {
            "text/plain": [
              "<matplotlib.legend.Legend at 0x7f5c1bf1ce80>"
            ]
          },
          "metadata": {
            "tags": []
          },
          "execution_count": 12
        },
        {
          "output_type": "display_data",
          "data": {
            "image/png": "[encoded data removed]",
            "text/plain": [
              "<Figure size 432x288 with 1 Axes>"
            ]
          },
          "metadata": {
            "tags": [],
            "needs_background": "light"
          }
        }
      ]
    },
    {
      "cell_type": "code",
      "metadata": {
        "id": "ipIVHI2omo7I",
        "colab": {
          "base_uri": "https://localhost:8080/",
          "height": 517
        },
        "outputId": "9d4ce3fb-8543-407d-8118-467415fefb31"
      },
      "source": [
        "idx_test_img = 173 #@param {type:\"slider\", min:0, max:9999, step:1}\n",
        "\n",
        "img_test = MNIST.x_test_noise[idx_test_img:idx_test_img+5]\n",
        "\n",
        "img_recon = resModel(img_test)\n",
        "\n",
        "plt.figure(figsize=(10,10))\n",
        "plt.imshow(np.hstack(np.squeeze(MNIST.x_test[idx_test_img:idx_test_img+5])),'gray')\n",
        "plt.title(\"Original\", fontsize=15)\n",
        "\n",
        "plt.figure(figsize=(10,10))\n",
        "plt.imshow(np.hstack(np.squeeze(img_test)),'gray')\n",
        "plt.title(\"Noise images\", fontsize=15)\n",
        "\n",
        "plt.figure(figsize=(10,10))\n",
        "plt.imshow(np.hstack(np.squeeze(img_recon)),'gray')\n",
        "plt.title(\"Reconstructed\", fontsize=15)\n"
      ],
      "execution_count": null,
      "outputs": [
        {
          "output_type": "execute_result",
          "data": {
            "text/plain": [
              "Text(0.5, 1.0, 'Reconstructed')"
            ]
          },
          "metadata": {
            "tags": []
          },
          "execution_count": 13
        },
        {
          "output_type": "display_data",
          "data": {
            "image/png": "[encoded data removed]",
            "text/plain": [
              "<Figure size 720x720 with 1 Axes>"
            ]
          },
          "metadata": {
            "tags": [],
            "needs_background": "light"
          }
        },
        {
          "output_type": "display_data",
          "data": {
            "image/png": "[encoded data removed]",
            "text/plain": [
              "<Figure size 720x720 with 1 Axes>"
            ]
          },
          "metadata": {
            "tags": [],
            "needs_background": "light"
          }
        },
        {
          "output_type": "display_data",
          "data": {
            "image/png": "[encoded data removed]",
            "text/plain": [
              "<Figure size 720x720 with 1 Axes>"
            ]
          },
          "metadata": {
            "tags": [],
            "needs_background": "light"
          }
        }
      ]
    }
  ]
}